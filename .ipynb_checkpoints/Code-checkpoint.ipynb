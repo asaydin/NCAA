{
 "cells": [
  {
   "cell_type": "code",
   "execution_count": 1,
   "metadata": {
    "collapsed": true
   },
   "outputs": [],
   "source": [
    "import pandas as pd\n",
    "import random\n",
    "import numpy as np\n",
    "\n",
    "complete=pd.read_csv('our_data.csv')\n",
    "results=pd.read_csv('RegularSeasonCompactResults.csv')"
   ]
  },
  {
   "cell_type": "code",
   "execution_count": 2,
   "metadata": {
    "collapsed": true
   },
   "outputs": [],
   "source": [
    "import csv\n",
    "\n",
    "def writeListofListToCsvFile(fname, data):\n",
    "    \"\"\"\n",
    "    @param fname: string, name of file to write\n",
    "    @param data: list of list of items\n",
    "\n",
    "    Write data to file\n",
    "    \"\"\"\n",
    "    mycsv = csv.writer(open(fname, 'wb'))\n",
    "    for row in data:\n",
    "        mycsv.writerow(row)"
   ]
  },
  {
   "cell_type": "code",
   "execution_count": 11,
   "metadata": {
    "collapsed": false
   },
   "outputs": [
    {
     "data": {
      "text/plain": [
       "Index([u'Team_Id', u'Team_Name', u'Average Salary', u'2016 ESPN BPI',\n",
       "       u'2015 ESPN BPI', u'2014 ESPN BPI', u'2013 ESPN BPI', u'2012 ESPN BPI',\n",
       "       u'Moore 2016', u'Moore 2015', u'Moore 2014', u'Moore 2013',\n",
       "       u'Moore 2012', u'Moore 2011', u'Kenpom 2016', u'Kenpom 2015',\n",
       "       u'Kenpom 2014', u'Kenpom 2013', u'Kenpom 2012'],\n",
       "      dtype='object')"
      ]
     },
     "execution_count": 11,
     "metadata": {},
     "output_type": "execute_result"
    }
   ],
   "source": [
    "complete.columns"
   ]
  },
  {
   "cell_type": "code",
   "execution_count": 12,
   "metadata": {
    "collapsed": false
   },
   "outputs": [
    {
     "data": {
      "text/plain": [
       "Index([u'Season', u'Daynum', u'Wteam', u'Wscore', u'Lteam', u'Lscore', u'Wloc',\n",
       "       u'Numot'],\n",
       "      dtype='object')"
      ]
     },
     "execution_count": 12,
     "metadata": {},
     "output_type": "execute_result"
    }
   ],
   "source": [
    "results.columns"
   ]
  },
  {
   "cell_type": "code",
   "execution_count": 137,
   "metadata": {
    "collapsed": false
   },
   "outputs": [],
   "source": [
    "#Baseline1 . For match between A and B, predict one who had highest wins in the matches among these two.\n",
    "#Interestingly there were mostly\n",
    "from sklearn.metrics import f1_score\n",
    "def get_baseline(year, results):\n",
    "    results=results[results['Season']==year]\n",
    "    f_results=results[['Wteam', 'Lteam', 'Wscore', 'Lscore']]\n",
    "    y_predict=[]\n",
    "    y_actual=[]\n",
    "    for index,row in f_results.iterrows():\n",
    "        team1=row['Wteam']\n",
    "        team2=row['Lteam']\n",
    "        team_results=results.loc[((results['Wteam']==team1) | (results['Lteam']==team1))\n",
    "                           & ((results['Wteam']==team2) | (results['Lteam']==team2))]\n",
    "        totalmatches=team_results.shape[0]\n",
    "        teamA_matches_won=team_results[team_results['Wteam']==row['Wteam']]\n",
    "        teamA_matches_won=teamA_matches_won.shape[0]\n",
    "        teamB_matches_won=totalmatches-teamA_matches_won\n",
    "        if teamA_matches_won>teamB_matches_won:\n",
    "            y_predict.append(1)\n",
    "        else:\n",
    "            y_predict.append(-1)\n",
    "        y_actual.append(1)\n",
    "    return f1_score(y_actual,y_predict)\n",
    "        \n",
    "    "
   ]
  },
  {
   "cell_type": "code",
   "execution_count": 138,
   "metadata": {
    "collapsed": false
   },
   "outputs": [
    {
     "data": {
      "text/plain": [
       "0.89380165289256197"
      ]
     },
     "execution_count": 138,
     "metadata": {},
     "output_type": "execute_result"
    }
   ],
   "source": [
    "get_baseline(2015,results)"
   ]
  },
  {
   "cell_type": "code",
   "execution_count": 131,
   "metadata": {
    "collapsed": false
   },
   "outputs": [],
   "source": [
    "#Baseline2 . For match between A and B, predict one who had highest wins in the history.\n",
    "from sklearn.metrics import f1_score\n",
    "def get_baseline2(year, results):\n",
    "    results=results[results['Season']==year]\n",
    "    f_results=results[['Wteam', 'Lteam', 'Wscore', 'Lscore']]\n",
    "    y_predict=[]\n",
    "    y_actual=[]\n",
    "    for index,row in f_results.iterrows():\n",
    "        team1=row['Wteam']\n",
    "        team2=row['Lteam']\n",
    "        teamA_matches_won=results.loc[(results['Wteam']==team1)].shape[0]\n",
    "        teamB_matches_won=results.loc[(results['Wteam']==team2)].shape[0]\n",
    "        #print teamA_matches_won,' ',teamB_matches_won\n",
    "        if teamA_matches_won>teamB_matches_won:\n",
    "            y_predict.append(1)\n",
    "        else:\n",
    "            y_predict.append(-1)\n",
    "        y_actual.append(1)\n",
    "    return f1_score(y_actual,y_predict)\n",
    "        \n",
    "    "
   ]
  },
  {
   "cell_type": "code",
   "execution_count": 132,
   "metadata": {
    "collapsed": false
   },
   "outputs": [
    {
     "data": {
      "text/plain": [
       "0.83608695652173914"
      ]
     },
     "execution_count": 132,
     "metadata": {},
     "output_type": "execute_result"
    }
   ],
   "source": [
    "get_baseline2(2015,results)"
   ]
  },
  {
   "cell_type": "code",
   "execution_count": 13,
   "metadata": {
    "collapsed": false
   },
   "outputs": [],
   "source": [
    "def get_data(year,results,data):\n",
    "    results=results[results['Season']==year]\n",
    "    cols=data.columns\n",
    "    selected_cols=[]\n",
    "    selected_cols.append('Average Salary')\n",
    "    for col in cols:\n",
    "        if str(year) in col:\n",
    "            selected_cols.append(col)\n",
    "    X=[]\n",
    "    y=[]\n",
    "    xxx=0\n",
    "    for index,row in results.iterrows():\n",
    "        xrow=[]\n",
    "        toss=random.randint(0,234234988)\n",
    "        if toss%2==0:\n",
    "            result=row['Wscore']-row['Lscore']\n",
    "            y.append(result)\n",
    "            team1=data[data['Team_Id']==row['Wteam']]\n",
    "            for col in selected_cols:\n",
    "                val=team1.iloc[0][col]\n",
    "                if np.isnan(val):\n",
    "                    val=data[col].min()\n",
    "                xrow.append(val)\n",
    "            team2=data[data['Team_Id']==row['Lteam']]\n",
    "            for col in selected_cols:\n",
    "                val=team2.iloc[0][col]\n",
    "                if np.isnan(val):\n",
    "                    val=data[col].min()\n",
    "                xrow.append(val)\n",
    "            \n",
    "        else:\n",
    "            result=row['Lscore']-row['Wscore']\n",
    "            y.append(result)\n",
    "            team2=data[data['Team_Id']==row['Lteam']]\n",
    "            for col in selected_cols:\n",
    "                val=team2.iloc[0][col]\n",
    "                if np.isnan(val):\n",
    "                    val=data[col].min()\n",
    "                xrow.append(val)\n",
    "            team1=data[data['Team_Id']==row['Wteam']]\n",
    "            for col in selected_cols:\n",
    "                val=team1.iloc[0][col]\n",
    "                if np.isnan(val):\n",
    "                    val=data[col].min()\n",
    "                xrow.append(val)\n",
    "        X.append(xrow)\n",
    "\n",
    "        xxx=xxx+1\n",
    "\n",
    "    return [np.array(X),np.array(y)];\n",
    "    \n",
    "        \n",
    "        "
   ]
  },
  {
   "cell_type": "code",
   "execution_count": 77,
   "metadata": {
    "collapsed": false
   },
   "outputs": [
    {
     "name": "stdout",
     "output_type": "stream",
     "text": [
      "Gaussian Naive Bayes f1score  0.741108354012\n"
     ]
    }
   ],
   "source": [
    "from sklearn.naive_bayes import GaussianNB\n",
    "from sklearn.metrics import accuracy_score\n",
    "from sklearn.cross_validation import train_test_split\n",
    "\n",
    "d=get_data(2015,results,complete)\n",
    "newy=[]\n",
    "for n in d[1]:\n",
    "    if n>0:\n",
    "        newy.append(1)\n",
    "    elif n<0:\n",
    "        newy.append(-1)\n",
    "    else:\n",
    "        newy.append(0)\n",
    "        \n",
    "X_train, X_test, y_train, y_test = train_test_split(d[0], newy, test_size=0.20)\n",
    "X_train, X_cv, y_train, y_cv = train_test_split(X_train, y_train, test_size=0.25)\n",
    "\n",
    "gnb = GaussianNB()\n",
    "y_pred = gnb.fit(X_train, y_train).predict(X_test)\n",
    "\n",
    "print 'Gaussian Naive Bayes f1score ',f1_score(y_test, y_pred)\n",
    "\n"
   ]
  },
  {
   "cell_type": "code",
   "execution_count": null,
   "metadata": {
    "collapsed": true
   },
   "outputs": [],
   "source": []
  },
  {
   "cell_type": "code",
   "execution_count": 26,
   "metadata": {
    "collapsed": false
   },
   "outputs": [
    {
     "name": "stdout",
     "output_type": "stream",
     "text": [
      "Selected cols : ['Kenpom 2015']\n",
      "Data fetch complete.\n",
      "(5354, 3)\n",
      "Test F1 score : 0.703081232493\n",
      "Train F1 score : 0.697073474471\n"
     ]
    }
   ],
   "source": [
    "from sklearn.svm import SVR\n",
    "from sklearn import preprocessing\n",
    "from sklearn.metrics import accuracy_score\n",
    "\n",
    "d=get_datav3(2015,results,complete)\n",
    "print 'Data fetch complete.'\n",
    "\n",
    "d[0]=custom_normalize(d[0])      \n",
    "\n",
    "X_train, X_test, y_train, y_test = train_test_split(d[0], d[1], test_size=0.20)\n",
    "X_train, X_cv, y_train, y_cv = train_test_split(X_train, y_train, test_size=0.25)\n",
    "\n",
    "svr_rbf = SVR(kernel='poly', C=1, gamma=1,degree = 5)\n",
    "svr_rbf = svr_rbf.fit(X_train, y_train);\n",
    "y_rbf = svr_rbf.predict(X_test)\n",
    "\n",
    "y_actual_discrete=[]\n",
    "for n in y_test:\n",
    "    if n>0:\n",
    "        y_actual_discrete.append(1)\n",
    "    elif n<0:\n",
    "        y_actual_discrete.append(-1)\n",
    "    else:\n",
    "        y_actual_discrete.append(0)\n",
    "        \n",
    "y_predict_discrete=[]\n",
    "for n in y_rbf:\n",
    "    if n>0:\n",
    "        y_predict_discrete.append(1)\n",
    "    elif n<0:\n",
    "        y_predict_discrete.append(-1)\n",
    "    else:\n",
    "        y_predict_discrete.append(0)\n",
    "        \n",
    "print 'Test F1 score :',accuracy_score(y_actual_discrete,y_predict_discrete)\n",
    "\n",
    "y_rbf = svr_rbf.predict(X_train)\n",
    "\n",
    "y_actual_discrete=[]\n",
    "for n in y_train:\n",
    "    if n>0:\n",
    "        y_actual_discrete.append(1)\n",
    "    elif n<0:\n",
    "        y_actual_discrete.append(-1)\n",
    "    else:\n",
    "        y_actual_discrete.append(0)\n",
    "        \n",
    "y_predict_discrete=[]\n",
    "for n in y_rbf:\n",
    "    if n>0:\n",
    "        y_predict_discrete.append(1)\n",
    "    elif n<0:\n",
    "        y_predict_discrete.append(-1)\n",
    "    else:\n",
    "        y_predict_discrete.append(0)\n",
    "        \n",
    "print 'Train F1 score :',accuracy_score(y_actual_discrete,y_predict_discrete)"
   ]
  },
  {
   "cell_type": "code",
   "execution_count": 8,
   "metadata": {
    "collapsed": true
   },
   "outputs": [],
   "source": [
    "def custom_normalize(d):\n",
    "    s=d.shape\n",
    "    print s\n",
    "    for i in range(0,s[1]):\n",
    "        maxC=d[:,i].max()\n",
    "        minC=d[:,i].min()\n",
    "        d[:,i]=(d[:,i]-minC)/(maxC-minC)\n",
    "    return d"
   ]
  },
  {
   "cell_type": "code",
   "execution_count": null,
   "metadata": {
    "collapsed": false
   },
   "outputs": [],
   "source": [
    "#grid search for C and lambda\n",
    "from sklearn.grid_search import ParameterGrid\n",
    "from sklearn import preprocessing\n",
    "from sklearn.metrics import f1_score\n",
    "from sklearn.cross_validation import train_test_split\n",
    "from sklearn.svm import SVR\n",
    "\n",
    "d=get_datav4(2015,results,complete)\n",
    "print 'Data fetch complete.'\n",
    "\n",
    "#d[0]=preprocessing.normalize(d[0])  \n",
    "d[0]=custom_normalize(d[0])\n",
    "\n",
    "print 'd[0].shape :',np.array(d[0]).shape\n",
    "print 'd[1].shape :',np.array(d[1]).shape\n",
    "\n",
    "X_train, X_test, y_train, y_test = train_test_split(d[0], d[1], test_size=0.20)\n",
    "print 'X_train.shape :',X_train.shape\n",
    "print ''\n",
    "\n",
    "param_grid = {'C':[2**11,2**13,2**15,2**17,2**19],\n",
    "              'gamma': [2**-5,2**-3,2**-2,2**1,2**3,2**5]}\n",
    "results=[]\n",
    "l=len(ParameterGrid(param_grid))\n",
    "i=1\n",
    "for obj in ParameterGrid(param_grid):\n",
    "    if i%(l/10)==0:\n",
    "        print 'Iteration ',i\n",
    "    i=i+1\n",
    "    result=[]\n",
    "    result.append(obj['C'])\n",
    "    result.append(obj['gamma'])\n",
    "    svr_rbf = SVR(kernel='rbf', C=obj['C'], gamma=obj['gamma'])\n",
    "    svr_rbf = svr_rbf.fit(X_train, y_train);\n",
    "    y_rbf = svr_rbf.predict(X_test)\n",
    "\n",
    "    y_actual_discrete=[]\n",
    "    for n in y_test:\n",
    "        if n>0:\n",
    "            y_actual_discrete.append(1)\n",
    "        elif n<0:\n",
    "            y_actual_discrete.append(-1)\n",
    "        else:\n",
    "            y_actual_discrete.append(0)\n",
    "            \n",
    "    y_predict_discrete=[]\n",
    "    for n in y_rbf:\n",
    "        if n>0:\n",
    "            y_predict_discrete.append(1)\n",
    "        elif n<0:\n",
    "            y_predict_discrete.append(-1)\n",
    "        else:\n",
    "            y_predict_discrete.append(0)\n",
    "        \n",
    "    result.append(f1_score(y_actual_discrete,y_predict_discrete))\n",
    "\n",
    "    y_rbf = svr_rbf.predict(X_train)\n",
    "\n",
    "    y_actual_discrete=[]\n",
    "    for n in y_train:\n",
    "        if n>0:\n",
    "            y_actual_discrete.append(1)\n",
    "        elif n<0:\n",
    "            y_actual_discrete.append(-1)\n",
    "        else:\n",
    "            y_actual_discrete.append(0)\n",
    "        \n",
    "    y_predict_discrete=[]\n",
    "    for n in y_rbf:\n",
    "        if n>0:\n",
    "            y_predict_discrete.append(1)\n",
    "        elif n<0:\n",
    "            y_predict_discrete.append(-1)\n",
    "        else:\n",
    "            y_predict_discrete.append(0)\n",
    "        \n",
    "    result.append(f1_score(y_actual_discrete,y_predict_discrete))\n",
    "    results.append(result)\n"
   ]
  },
  {
   "cell_type": "code",
   "execution_count": 12,
   "metadata": {
    "collapsed": true
   },
   "outputs": [],
   "source": [
    "writeListofListToCsvFile('svm_rbf.csv',results)"
   ]
  },
  {
   "cell_type": "code",
   "execution_count": 30,
   "metadata": {
    "collapsed": true
   },
   "outputs": [],
   "source": [
    "#In this method, I add more features\n",
    "# Rivalry= Number of matches played that year between the two teams.\n",
    "# Differences in wins in the history.\n",
    "def get_datav2(year,results,data):\n",
    "    results=results[results['Season']==year]\n",
    "    cols=data.columns\n",
    "    selected_cols=[]\n",
    "    selected_cols.append('Average Salary')\n",
    "    for col in cols:\n",
    "        if str(year) in col:\n",
    "            selected_cols.append(col)\n",
    "    X=[]\n",
    "    y=[]\n",
    "    xxx=0\n",
    "    for index,row in results.iterrows():\n",
    "        xrow=[]\n",
    "        toss=random.randint(0,234234988)\n",
    "        if toss%2==0:\n",
    "            result=row['Wscore']-row['Lscore']\n",
    "            y.append(result)\n",
    "            team1=data[data['Team_Id']==row['Wteam']]\n",
    "            for col in selected_cols:\n",
    "                val=team1.iloc[0][col]\n",
    "                if np.isnan(val):\n",
    "                    val=data[col].min()\n",
    "                xrow.append(val)\n",
    "            team2=data[data['Team_Id']==row['Lteam']]\n",
    "            for col in selected_cols:\n",
    "                val=team2.iloc[0][col]\n",
    "                if np.isnan(val):\n",
    "                    val=data[col].min()\n",
    "                xrow.append(val)\n",
    "            team1id=row['Wteam']\n",
    "            team2id=row['Lteam']\n",
    "\n",
    "            \n",
    "        else:\n",
    "            result=row['Lscore']-row['Wscore']\n",
    "            y.append(result)\n",
    "            team2=data[data['Team_Id']==row['Lteam']]\n",
    "            for col in selected_cols:\n",
    "                val=team2.iloc[0][col]\n",
    "                if np.isnan(val):\n",
    "                    val=data[col].min()\n",
    "                xrow.append(val)\n",
    "            team1=data[data['Team_Id']==row['Wteam']]\n",
    "            for col in selected_cols:\n",
    "                val=team1.iloc[0][col]\n",
    "                if np.isnan(val):\n",
    "                    val=data[col].min()\n",
    "                xrow.append(val)\n",
    "            team1id=row['Lteam']\n",
    "            team2id=row['Wteam']\n",
    "        #rivalry\n",
    "        team_results=results.loc[(\n",
    "                (results['Wteam']==team1id) | (results['Lteam']==team1id)\n",
    "                                ) & \n",
    "                                (\n",
    "                (results['Wteam']==team2id) | (results['Lteam']==team2id)\n",
    "            )]\n",
    "        xrow.append(team_results.shape[0])\n",
    "        \n",
    "        #differences in wins\n",
    "        teamA_matches_won=results.loc[(results['Wteam']==team1id)].shape[0]\n",
    "        teamB_matches_won=results.loc[(results['Wteam']==team2id)].shape[0]\n",
    "        xrow.append(teamA_matches_won-teamB_matches_won)\n",
    "        \n",
    "        X.append(xrow)\n",
    "\n",
    "        xxx=xxx+1\n",
    "\n",
    "    return [np.array(X),np.array(y)];\n",
    "    \n",
    "        \n",
    "        "
   ]
  },
  {
   "cell_type": "code",
   "execution_count": 25,
   "metadata": {
    "collapsed": true
   },
   "outputs": [],
   "source": [
    "#In this method, proportions seperated. Kenpom added.\n",
    "\n",
    "def get_datav3(year,results,data):\n",
    "    results=results[results['Season']==year]\n",
    "    selected_cols=[]\n",
    "    cols=data.columns\n",
    "    for col in cols:\n",
    "        if str(year) in col and 'Kenpom' in col:\n",
    "            selected_cols.append(col)\n",
    "    print 'Selected cols :',selected_cols\n",
    "\n",
    "    X=[]\n",
    "    y=[]\n",
    "    xxx=0\n",
    "    for index,row in results.iterrows():\n",
    "        xrow=[]\n",
    "        toss=random.randint(0,234234988)\n",
    "        if toss%2==0:\n",
    "            result=row['Wscore']-row['Lscore']\n",
    "            y.append(result)\n",
    "            team1=data[data['Team_Id']==row['Wteam']]\n",
    "            for col in selected_cols:\n",
    "                val=team1.iloc[0][col]\n",
    "                if np.isnan(val):\n",
    "                    val=data[col].min()\n",
    "                xrow.append(val)\n",
    "            team1=data[data['Team_Id']==row['Lteam']]\n",
    "            for col in selected_cols:\n",
    "                val=team1.iloc[0][col]\n",
    "                if np.isnan(val):\n",
    "                    val=data[col].min()\n",
    "                xrow.append(val)\n",
    "            team1id=row['Wteam']\n",
    "            team2id=row['Lteam']\n",
    "\n",
    "            \n",
    "        else:\n",
    "            result=row['Lscore']-row['Wscore']\n",
    "            y.append(result)\n",
    "            team1=data[data['Team_Id']==row['Lteam']]\n",
    "            for col in selected_cols:\n",
    "                val=team1.iloc[0][col]\n",
    "                if np.isnan(val):\n",
    "                    val=data[col].min()\n",
    "                xrow.append(val)\n",
    "            team1=data[data['Team_Id']==row['Wteam']]\n",
    "            for col in selected_cols:\n",
    "                val=team1.iloc[0][col]\n",
    "                if np.isnan(val):\n",
    "                    val=data[col].min()\n",
    "                xrow.append(val)\n",
    "            team1id=row['Lteam']\n",
    "            team2id=row['Wteam']\n",
    "        \n",
    "        teamA_matches_won=results.loc[(results['Wteam']==team1id)].shape[0]\n",
    "        teamA_matches_lost=results.loc[(results['Lteam']==team1id)].shape[0]\n",
    "        \n",
    "        teamB_matches_won=results.loc[(results['Wteam']==team2id)].shape[0]\n",
    "        teamB_matches_lost=results.loc[(results['Lteam']==team2id)].shape[0]\n",
    "        xrow.append(teamA_matches_won/float(teamA_matches_won+teamA_matches_lost)\n",
    "                    -teamB_matches_won/float(teamB_matches_won+teamB_matches_lost))\n",
    "        \n",
    "        X.append(xrow)\n",
    "\n",
    "        xxx=xxx+1\n",
    "\n",
    "    return [np.array(X),np.array(y)];"
   ]
  },
  {
   "cell_type": "code",
   "execution_count": 18,
   "metadata": {
    "collapsed": true
   },
   "outputs": [],
   "source": [
    "#In this method, just \"proportion\" of matches won. Instead of proportion two proportions are seperated\n",
    "\n",
    "def get_datav4(year,results,data):\n",
    "    results=results[results['Season']==year]\n",
    "\n",
    "    X=[]\n",
    "    y=[]\n",
    "    xxx=0\n",
    "    for index,row in results.iterrows():\n",
    "        xrow=[]\n",
    "        toss=random.randint(0,234234988)\n",
    "        if toss%2==0:\n",
    "            result=row['Wscore']-row['Lscore']\n",
    "            y.append(result)\n",
    "            \n",
    "            team1id=row['Wteam']\n",
    "            team2id=row['Lteam']\n",
    "\n",
    "            \n",
    "        else:\n",
    "            result=row['Lscore']-row['Wscore']\n",
    "            y.append(result)\n",
    "            \n",
    "            team1id=row['Lteam']\n",
    "            team2id=row['Wteam']\n",
    "        \n",
    "        teamA_matches_won=results.loc[(results['Wteam']==team1id)].shape[0]\n",
    "        teamA_matches_lost=results.loc[(results['Lteam']==team1id)].shape[0]\n",
    "        \n",
    "        teamB_matches_won=results.loc[(results['Wteam']==team2id)].shape[0]\n",
    "        teamB_matches_lost=results.loc[(results['Lteam']==team2id)].shape[0]\n",
    "        \n",
    "        xrow.append(teamA_matches_won/float(teamA_matches_won+teamA_matches_lost))\n",
    "        xrow.append(teamB_matches_won/float(teamB_matches_won+teamB_matches_lost))\n",
    "        \n",
    "        X.append(xrow)\n",
    "\n",
    "        xxx=xxx+1\n",
    "\n",
    "    return [np.array(X),np.array(y)];"
   ]
  },
  {
   "cell_type": "code",
   "execution_count": null,
   "metadata": {
    "collapsed": true
   },
   "outputs": [],
   "source": []
  }
 ],
 "metadata": {
  "kernelspec": {
   "display_name": "Python 2",
   "language": "python",
   "name": "python2"
  },
  "language_info": {
   "codemirror_mode": {
    "name": "ipython",
    "version": 2
   },
   "file_extension": ".py",
   "mimetype": "text/x-python",
   "name": "python",
   "nbconvert_exporter": "python",
   "pygments_lexer": "ipython2",
   "version": "2.7.10"
  }
 },
 "nbformat": 4,
 "nbformat_minor": 0
}
