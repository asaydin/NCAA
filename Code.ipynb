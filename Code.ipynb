{
 "cells": [
  {
   "cell_type": "code",
   "execution_count": 10,
   "metadata": {
    "collapsed": true
   },
   "outputs": [],
   "source": [
    "import pandas as pd\n",
    "import random\n",
    "import numpy as np\n",
    "\n",
    "complete=pd.read_csv('our_data.csv')\n",
    "results=pd.read_csv('RegularSeasonCompactResults.csv')"
   ]
  },
  {
   "cell_type": "code",
   "execution_count": 11,
   "metadata": {
    "collapsed": false
   },
   "outputs": [
    {
     "data": {
      "text/plain": [
       "Index([u'Team_Id', u'Team_Name', u'Average Salary', u'2016 ESPN BPI',\n",
       "       u'2015 ESPN BPI', u'2014 ESPN BPI', u'2013 ESPN BPI', u'2012 ESPN BPI',\n",
       "       u'Moore 2016', u'Moore 2015', u'Moore 2014', u'Moore 2013',\n",
       "       u'Moore 2012', u'Moore 2011', u'Kenpom 2016', u'Kenpom 2015',\n",
       "       u'Kenpom 2014', u'Kenpom 2013', u'Kenpom 2012'],\n",
       "      dtype='object')"
      ]
     },
     "execution_count": 11,
     "metadata": {},
     "output_type": "execute_result"
    }
   ],
   "source": [
    "complete.columns"
   ]
  },
  {
   "cell_type": "code",
   "execution_count": 12,
   "metadata": {
    "collapsed": false
   },
   "outputs": [
    {
     "data": {
      "text/plain": [
       "Index([u'Season', u'Daynum', u'Wteam', u'Wscore', u'Lteam', u'Lscore', u'Wloc',\n",
       "       u'Numot'],\n",
       "      dtype='object')"
      ]
     },
     "execution_count": 12,
     "metadata": {},
     "output_type": "execute_result"
    }
   ],
   "source": [
    "results.columns"
   ]
  },
  {
   "cell_type": "code",
   "execution_count": 137,
   "metadata": {
    "collapsed": false
   },
   "outputs": [],
   "source": [
    "#Baseline1 . For match between A and B, predict one who had highest wins in the matches among these two.\n",
    "#Interestingly there were mostly\n",
    "from sklearn.metrics import f1_score\n",
    "def get_baseline(year, results):\n",
    "    results=results[results['Season']==year]\n",
    "    f_results=results[['Wteam', 'Lteam', 'Wscore', 'Lscore']]\n",
    "    y_predict=[]\n",
    "    y_actual=[]\n",
    "    for index,row in f_results.iterrows():\n",
    "        team1=row['Wteam']\n",
    "        team2=row['Lteam']\n",
    "        team_results=results.loc[((results['Wteam']==team1) | (results['Lteam']==team1))\n",
    "                           & ((results['Wteam']==team2) | (results['Lteam']==team2))]\n",
    "        totalmatches=team_results.shape[0]\n",
    "        teamA_matches_won=team_results[team_results['Wteam']==row['Wteam']]\n",
    "        teamA_matches_won=teamA_matches_won.shape[0]\n",
    "        teamB_matches_won=totalmatches-teamA_matches_won\n",
    "        if teamA_matches_won>teamB_matches_won:\n",
    "            y_predict.append(1)\n",
    "        else:\n",
    "            y_predict.append(-1)\n",
    "        y_actual.append(1)\n",
    "    return f1_score(y_actual,y_predict)\n",
    "        \n",
    "    "
   ]
  },
  {
   "cell_type": "code",
   "execution_count": 138,
   "metadata": {
    "collapsed": false
   },
   "outputs": [
    {
     "data": {
      "text/plain": [
       "0.89380165289256197"
      ]
     },
     "execution_count": 138,
     "metadata": {},
     "output_type": "execute_result"
    }
   ],
   "source": [
    "get_baseline(2015,results)"
   ]
  },
  {
   "cell_type": "code",
   "execution_count": 131,
   "metadata": {
    "collapsed": false
   },
   "outputs": [],
   "source": [
    "#Baseline2 . For match between A and B, predict one who had highest wins in the history.\n",
    "from sklearn.metrics import f1_score\n",
    "def get_baseline2(year, results):\n",
    "    results=results[results['Season']==year]\n",
    "    f_results=results[['Wteam', 'Lteam', 'Wscore', 'Lscore']]\n",
    "    y_predict=[]\n",
    "    y_actual=[]\n",
    "    for index,row in f_results.iterrows():\n",
    "        team1=row['Wteam']\n",
    "        team2=row['Lteam']\n",
    "        teamA_matches_won=results.loc[(results['Wteam']==team1)].shape[0]\n",
    "        teamB_matches_won=results.loc[(results['Wteam']==team2)].shape[0]\n",
    "        #print teamA_matches_won,' ',teamB_matches_won\n",
    "        if teamA_matches_won>teamB_matches_won:\n",
    "            y_predict.append(1)\n",
    "        else:\n",
    "            y_predict.append(-1)\n",
    "        y_actual.append(1)\n",
    "    return f1_score(y_actual,y_predict)\n",
    "        \n",
    "    "
   ]
  },
  {
   "cell_type": "code",
   "execution_count": 132,
   "metadata": {
    "collapsed": false
   },
   "outputs": [
    {
     "data": {
      "text/plain": [
       "0.83608695652173914"
      ]
     },
     "execution_count": 132,
     "metadata": {},
     "output_type": "execute_result"
    }
   ],
   "source": [
    "get_baseline2(2015,results)"
   ]
  },
  {
   "cell_type": "code",
   "execution_count": 13,
   "metadata": {
    "collapsed": false
   },
   "outputs": [],
   "source": [
    "def get_data(year,results,data):\n",
    "    results=results[results['Season']==year]\n",
    "    cols=data.columns\n",
    "    selected_cols=[]\n",
    "    selected_cols.append('Average Salary')\n",
    "    for col in cols:\n",
    "        if str(year) in col:\n",
    "            selected_cols.append(col)\n",
    "    X=[]\n",
    "    y=[]\n",
    "    xxx=0\n",
    "    for index,row in results.iterrows():\n",
    "        xrow=[]\n",
    "        toss=random.randint(0,234234988)\n",
    "        if toss%2==0:\n",
    "            result=row['Wscore']-row['Lscore']\n",
    "            y.append(result)\n",
    "            team1=data[data['Team_Id']==row['Wteam']]\n",
    "            for col in selected_cols:\n",
    "                val=team1.iloc[0][col]\n",
    "                if np.isnan(val):\n",
    "                    val=data[col].min()\n",
    "                xrow.append(val)\n",
    "            team2=data[data['Team_Id']==row['Lteam']]\n",
    "            for col in selected_cols:\n",
    "                val=team2.iloc[0][col]\n",
    "                if np.isnan(val):\n",
    "                    val=data[col].min()\n",
    "                xrow.append(val)\n",
    "            \n",
    "        else:\n",
    "            result=row['Lscore']-row['Wscore']\n",
    "            y.append(result)\n",
    "            team2=data[data['Team_Id']==row['Lteam']]\n",
    "            for col in selected_cols:\n",
    "                val=team2.iloc[0][col]\n",
    "                if np.isnan(val):\n",
    "                    val=data[col].min()\n",
    "                xrow.append(val)\n",
    "            team1=data[data['Team_Id']==row['Wteam']]\n",
    "            for col in selected_cols:\n",
    "                val=team1.iloc[0][col]\n",
    "                if np.isnan(val):\n",
    "                    val=data[col].min()\n",
    "                xrow.append(val)\n",
    "        X.append(xrow)\n",
    "\n",
    "        xxx=xxx+1\n",
    "\n",
    "    return [np.array(X),np.array(y)];\n",
    "    \n",
    "        \n",
    "        "
   ]
  },
  {
   "cell_type": "code",
   "execution_count": 77,
   "metadata": {
    "collapsed": false
   },
   "outputs": [
    {
     "name": "stdout",
     "output_type": "stream",
     "text": [
      "Gaussian Naive Bayes f1score  0.741108354012\n"
     ]
    }
   ],
   "source": [
    "from sklearn.naive_bayes import GaussianNB\n",
    "from sklearn.metrics import f1_score\n",
    "from sklearn.cross_validation import train_test_split\n",
    "\n",
    "d=get_data(2015,results,complete)\n",
    "newy=[]\n",
    "for n in d[1]:\n",
    "    if n>0:\n",
    "        newy.append(1)\n",
    "    elif n<0:\n",
    "        newy.append(-1)\n",
    "    else:\n",
    "        newy.append(0)\n",
    "        \n",
    "X_train, X_test, y_train, y_test = train_test_split(d[0], newy, test_size=0.20)\n",
    "X_train, X_cv, y_train, y_cv = train_test_split(X_train, y_train, test_size=0.25)\n",
    "\n",
    "gnb = GaussianNB()\n",
    "y_pred = gnb.fit(X_train, y_train).predict(X_test)\n",
    "\n",
    "print 'Gaussian Naive Bayes f1score ',f1_score(y_test, y_pred)\n",
    "\n"
   ]
  },
  {
   "cell_type": "code",
   "execution_count": 145,
   "metadata": {
    "collapsed": false
   },
   "outputs": [
    {
     "name": "stdout",
     "output_type": "stream",
     "text": [
      "Test F1 score : 0.526960784314\n",
      "Train F1 score : 0.504734458625\n"
     ]
    }
   ],
   "source": [
    "from sklearn.svm import SVR\n",
    "from sklearn import preprocessing\n",
    "\n",
    "d=get_data(2015,results,complete)\n",
    "\n",
    "d[0]=preprocessing.normalize(d[0])      \n",
    "\n",
    "X_train, X_test, y_train, y_test = train_test_split(d[0], d[1], test_size=0.20)\n",
    "X_train, X_cv, y_train, y_cv = train_test_split(X_train, y_train, test_size=0.25)\n",
    "\n",
    "svr_rbf = SVR(kernel='rbf', C=1e3, gamma=0.1)\n",
    "svr_rbf = svr_rbf.fit(X_train, y_train);\n",
    "y_rbf = svr_rbf.predict(X_test)\n",
    "\n",
    "y_actual_discrete=[]\n",
    "for n in y_test:\n",
    "    if n>0:\n",
    "        y_actual_discrete.append(1)\n",
    "    elif n<0:\n",
    "        y_actual_discrete.append(-1)\n",
    "    else:\n",
    "        y_actual_discrete.append(0)\n",
    "        \n",
    "y_predict_discrete=[]\n",
    "for n in y_rbf:\n",
    "    if n>0:\n",
    "        y_predict_discrete.append(1)\n",
    "    elif n<0:\n",
    "        y_predict_discrete.append(-1)\n",
    "    else:\n",
    "        y_predict_discrete.append(0)\n",
    "        \n",
    "print 'Test F1 score :',f1_score(y_actual_discrete,y_predict_discrete)\n",
    "\n",
    "y_rbf = svr_rbf.predict(X_train)\n",
    "\n",
    "y_actual_discrete=[]\n",
    "for n in y_train:\n",
    "    if n>0:\n",
    "        y_actual_discrete.append(1)\n",
    "    elif n<0:\n",
    "        y_actual_discrete.append(-1)\n",
    "    else:\n",
    "        y_actual_discrete.append(0)\n",
    "        \n",
    "y_predict_discrete=[]\n",
    "for n in y_rbf:\n",
    "    if n>0:\n",
    "        y_predict_discrete.append(1)\n",
    "    elif n<0:\n",
    "        y_predict_discrete.append(-1)\n",
    "    else:\n",
    "        y_predict_discrete.append(0)\n",
    "        \n",
    "print 'Train F1 score :',f1_score(y_actual_discrete,y_predict_discrete)"
   ]
  },
  {
   "cell_type": "code",
   "execution_count": null,
   "metadata": {
    "collapsed": true
   },
   "outputs": [],
   "source": [
    "import csv\n",
    "\n",
    "def writeListofListToCsvFile(fname, data):\n",
    "    \"\"\"\n",
    "    @param fname: string, name of file to write\n",
    "    @param data: list of list of items\n",
    "\n",
    "    Write data to file\n",
    "    \"\"\"\n",
    "    mycsv = csv.writer(open(fname, 'wb'))\n",
    "    for row in data:\n",
    "        mycsv.writerow(row)"
   ]
  },
  {
   "cell_type": "code",
   "execution_count": 14,
   "metadata": {
    "collapsed": false
   },
   "outputs": [
    {
     "name": "stdout",
     "output_type": "stream",
     "text": [
      "Iteration  18\n",
      "Iteration  36\n",
      "Iteration  54\n",
      "Iteration  72\n",
      "Iteration  90\n",
      "Iteration  108\n",
      "Iteration  126\n",
      "Iteration  144\n",
      "Iteration  162\n",
      "Iteration  180\n"
     ]
    },
    {
     "name": "stderr",
     "output_type": "stream",
     "text": [
      "/usr/local/lib/python2.7/site-packages/sklearn/metrics/classification.py:958: UndefinedMetricWarning: F-score is ill-defined and being set to 0.0 due to no predicted samples.\n",
      "  'precision', 'predicted', average, warn_for)\n"
     ]
    },
    {
     "ename": "NameError",
     "evalue": "name 'writeListofListToCsvFile' is not defined",
     "output_type": "error",
     "traceback": [
      "\u001b[0;31m---------------------------------------------------------------------------\u001b[0m",
      "\u001b[0;31mNameError\u001b[0m                                 Traceback (most recent call last)",
      "\u001b[0;32m<ipython-input-14-52f8e998048b>\u001b[0m in \u001b[0;36m<module>\u001b[0;34m()\u001b[0m\n\u001b[1;32m     70\u001b[0m     \u001b[0mresult\u001b[0m\u001b[0;34m.\u001b[0m\u001b[0mappend\u001b[0m\u001b[0;34m(\u001b[0m\u001b[0mf1_score\u001b[0m\u001b[0;34m(\u001b[0m\u001b[0my_actual_discrete\u001b[0m\u001b[0;34m,\u001b[0m\u001b[0my_predict_discrete\u001b[0m\u001b[0;34m)\u001b[0m\u001b[0;34m)\u001b[0m\u001b[0;34m\u001b[0m\u001b[0m\n\u001b[1;32m     71\u001b[0m     \u001b[0mresults\u001b[0m\u001b[0;34m.\u001b[0m\u001b[0mappend\u001b[0m\u001b[0;34m(\u001b[0m\u001b[0mresult\u001b[0m\u001b[0;34m)\u001b[0m\u001b[0;34m\u001b[0m\u001b[0m\n\u001b[0;32m---> 72\u001b[0;31m \u001b[0mwriteListofListToCsvFile\u001b[0m\u001b[0;34m(\u001b[0m\u001b[0;34m'svm_rbf.csv'\u001b[0m\u001b[0;34m,\u001b[0m\u001b[0mresults\u001b[0m\u001b[0;34m)\u001b[0m\u001b[0;34m\u001b[0m\u001b[0m\n\u001b[0m",
      "\u001b[0;31mNameError\u001b[0m: name 'writeListofListToCsvFile' is not defined"
     ]
    }
   ],
   "source": [
    "#grid search for C and lambda\n",
    "from sklearn.grid_search import ParameterGrid\n",
    "from sklearn import preprocessing\n",
    "from sklearn.metrics import f1_score\n",
    "from sklearn.cross_validation import train_test_split\n",
    "from sklearn.svm import SVR\n",
    "\n",
    "d=get_data(2015,results,complete)\n",
    "\n",
    "d[0]=preprocessing.normalize(d[0])      \n",
    "\n",
    "X_train, X_test, y_train, y_test = train_test_split(d[0], d[1], test_size=0.20)\n",
    "\n",
    "param_grid = {'C':[2**-5,2**-3,2**-1,2**1,2**3,2**5,2**7,2**9,2**11,2**13,2**15,2**17,2**19],\n",
    "              'gamma': [2**-15,2**-13,2**-12,2**-11,2**-9,2**-7,2**-5,2**-3,2**-2,2**1,2**3,2**5]}\n",
    "results=[]\n",
    "l=len(ParameterGrid(param_grid))\n",
    "i=1\n",
    "for obj in ParameterGrid(param_grid):\n",
    "    if i%(l/10)==0:\n",
    "        print 'Iteration ',i\n",
    "    i=i+1\n",
    "    result=[]\n",
    "    result.append(obj['C'])\n",
    "    result.append(obj['gamma'])\n",
    "    svr_rbf = SVR(kernel='rbf', C=obj['C'], gamma=obj['gamma'])\n",
    "    svr_rbf = svr_rbf.fit(X_train, y_train);\n",
    "    y_rbf = svr_rbf.predict(X_test)\n",
    "\n",
    "    y_actual_discrete=[]\n",
    "    for n in y_test:\n",
    "        if n>0:\n",
    "            y_actual_discrete.append(1)\n",
    "        elif n<0:\n",
    "            y_actual_discrete.append(-1)\n",
    "        else:\n",
    "            y_actual_discrete.append(0)\n",
    "            \n",
    "    y_predict_discrete=[]\n",
    "    for n in y_rbf:\n",
    "        if n>0:\n",
    "            y_predict_discrete.append(1)\n",
    "        elif n<0:\n",
    "            y_predict_discrete.append(-1)\n",
    "        else:\n",
    "            y_predict_discrete.append(0)\n",
    "        \n",
    "    result.append(f1_score(y_actual_discrete,y_predict_discrete))\n",
    "\n",
    "    y_rbf = svr_rbf.predict(X_train)\n",
    "\n",
    "    y_actual_discrete=[]\n",
    "    for n in y_train:\n",
    "        if n>0:\n",
    "            y_actual_discrete.append(1)\n",
    "        elif n<0:\n",
    "            y_actual_discrete.append(-1)\n",
    "        else:\n",
    "            y_actual_discrete.append(0)\n",
    "        \n",
    "    y_predict_discrete=[]\n",
    "    for n in y_rbf:\n",
    "        if n>0:\n",
    "            y_predict_discrete.append(1)\n",
    "        elif n<0:\n",
    "            y_predict_discrete.append(-1)\n",
    "        else:\n",
    "            y_predict_discrete.append(0)\n",
    "        \n",
    "    result.append(f1_score(y_actual_discrete,y_predict_discrete))\n",
    "    results.append(result)\n",
    "writeListofListToCsvFile('svm_rbf.csv',results)"
   ]
  },
  {
   "cell_type": "code",
   "execution_count": 16,
   "metadata": {
    "collapsed": true
   },
   "outputs": [],
   "source": [
    "writeListofListToCsvFile('svm_rbf.csv',results)"
   ]
  },
  {
   "cell_type": "code",
   "execution_count": null,
   "metadata": {
    "collapsed": true
   },
   "outputs": [],
   "source": []
  }
 ],
 "metadata": {
  "kernelspec": {
   "display_name": "Python 2",
   "language": "python",
   "name": "python2"
  },
  "language_info": {
   "codemirror_mode": {
    "name": "ipython",
    "version": 2
   },
   "file_extension": ".py",
   "mimetype": "text/x-python",
   "name": "python",
   "nbconvert_exporter": "python",
   "pygments_lexer": "ipython2",
   "version": "2.7.10"
  }
 },
 "nbformat": 4,
 "nbformat_minor": 0
}
